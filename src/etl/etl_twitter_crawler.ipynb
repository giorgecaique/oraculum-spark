{
 "cells": [
  {
   "cell_type": "code",
   "execution_count": null,
   "metadata": {},
   "outputs": [],
   "source": [
    "%fs ls /FileStore/tables/curated"
   ]
  },
  {
   "cell_type": "code",
   "execution_count": 4,
   "metadata": {},
   "outputs": [],
   "source": [
    "# -- coding: utf-8 --\n",
    "import requests, json, datetime, boto3, itertools, tweepy\n",
    "from multiprocessing.dummy import Pool as ThreadPool\n",
    "from configparser import ConfigParser\n",
    "import pyspark.sql.functions as F\n",
    "from pyspark.sql.session import SparkSession\n",
    "from pyspark.sql.types import *"
   ]
  },
  {
   "cell_type": "code",
   "execution_count": 5,
   "metadata": {},
   "outputs": [],
   "source": [
    "spark = SparkSession.builder.appName('twitter_crawler').getOrCreate()\n",
    "sc = spark.sparkContext"
   ]
  },
  {
   "cell_type": "code",
   "execution_count": 5,
   "metadata": {},
   "outputs": [],
   "source": [
    "config = ConfigParser()\n",
    "config.read('../config.ini')\n",
    "\n",
    "# twitter keys\n",
    "CONSUMER_KEY = config['TWITTER']['CONSUMER_KEY']\n",
    "CONSUMER_SECRET = config['TWITTER']['CONSUMER_SECRET']\n",
    "ACCESS_TOKEN = \tconfig['TWITTER']['ACCESS_TOKEN']\n",
    "ACCESS_SECRET = config['TWITTER']['ACCESS_SECRET']"
   ]
  },
  {
   "cell_type": "code",
   "execution_count": 7,
   "metadata": {},
   "outputs": [],
   "source": [
    "auth = tweepy.OAuthHandler(CONSUMER_KEY, CONSUMER_SECRET)\n",
    "auth.set_access_token(ACCESS_TOKEN, ACCESS_SECRET)\n",
    "\n",
    "api = tweepy.API(auth)"
   ]
  },
  {
   "cell_type": "code",
   "execution_count": 11,
   "metadata": {},
   "outputs": [],
   "source": [
    "def get_tweets(twitter_username):\n",
    "    tweets = api.user_timeline(screen_name = twitter_username, count = 100, include_rts = True, tweet_mode = 'extended')\n",
    "\n",
    "    tweets = [tweet._json for tweet in tweets]\n",
    "    tweets = list(map(lambda x: {\n",
    "        'tweet' : x['full_text'],\n",
    "        'dt_creation' : x['created_at'],\n",
    "        'retweet_count' : x['retweet_count'],\n",
    "        'favorite_count' : x['favorite_count'],\n",
    "        'possibly_sensitive' : x['possibly_sensitive']\n",
    "        'dt_extraction' : datetime.datetime.now()\n",
    "    }, tweets))\n",
    "\n",
    "    return tweets"
   ]
  },
  {
   "cell_type": "code",
   "execution_count": null,
   "metadata": {},
   "outputs": [],
   "source": [
    "df_twitter_accounts = spark.read.csv('/FileStore/tables/raw/twitter_accounts.csv', header=True).cache()\n",
    "df_twitter_accounts.show(truncate=False)\n",
    "\n",
    "df_twitter_accounts = df_twitter_accounts.withColumn('TWITTER_SPLIT', F.split(df_twitter_accounts.TWITTER, '/'))\n",
    "df_twitter_accounts = df_twitter_accounts.withColumn('DC_TWITTER_NICKNAME', df_twitter_accounts.TWITTER_SPLIT.getItem(3))\n",
    "\n",
    "df_twitter_accounts = df_twitter_accounts.select(\n",
    "  'ID_DEPUTADO',\n",
    "  'NM_PARLAMENTAR',\n",
    "  'DC_TWITTER_NICKNAME'\n",
    ")"
   ]
  },
  {
   "cell_type": "code",
   "execution_count": null,
   "metadata": {},
   "outputs": [],
   "source": [
    "get_tweets_udf = F.udf(lambda twitter_username: get_tweets(twitter_username), ArrayType())\n",
    "\n",
    "politicians_twitter_df = df_twitter_accounts.withColumn('tweets', get_tweets_udf('DC_TWITTER_NICKNAME'))"
   ]
  }
 ],
 "metadata": {
  "language_info": {
   "codemirror_mode": {
    "name": "ipython",
    "version": 3
   },
   "file_extension": ".py",
   "mimetype": "text/x-python",
   "name": "python",
   "nbconvert_exporter": "python",
   "pygments_lexer": "ipython3",
   "version": "3.7.6-final"
  },
  "orig_nbformat": 2,
  "kernelspec": {
   "name": "python3",
   "display_name": "Python 3"
  }
 },
 "nbformat": 4,
 "nbformat_minor": 2
}