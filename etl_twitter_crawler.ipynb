{
 "cells": [
  {
   "cell_type": "code",
   "execution_count": 3,
   "metadata": {},
   "outputs": [],
   "source": [
    "# -- coding: utf-8 --\n",
    "import requests, json, datetime, boto3, itertools, tweepy\n",
    "from multiprocessing.dummy import Pool as ThreadPool\n",
    "import pyspark.sql.functions as F\n",
    "from pyspark.sql.session import SparkSession\n",
    "from pyspark.sql.types import *"
   ]
  },
  {
   "cell_type": "code",
   "execution_count": 5,
   "metadata": {},
   "outputs": [],
   "source": [
    "spark = SparkSession.builder.appName('twitter_crawler').getOrCreate()\n",
    "sc = spark.sparkContext"
   ]
  },
  {
   "cell_type": "code",
   "execution_count": 6,
   "metadata": {},
   "outputs": [],
   "source": [
    "# twitter keys\n",
    "CONSUMER_KEY = 'yXKMKyVm0YmkzMw6e9zAKg2U3'\n",
    "CONSUMER_SECRET = 'kjmviFnWNPocmBy0xtFxndQ17oKluLM5Ghgu7IQoVUix4HHs3K'\n",
    "ACCESS_TOKEN = \t'1567104799-zC1CJwjfYWiPAOI9325WLZWe3Z5xyIVdvX4338m'\n",
    "ACCESS_SECRET = '2U9iV3xy5kFVojA7pwFxkPxasSCZ2qs9hT6asavdSPzdg'"
   ]
  },
  {
   "cell_type": "code",
   "execution_count": 7,
   "metadata": {},
   "outputs": [],
   "source": [
    "auth = tweepy.OAuthHandler(CONSUMER_KEY, CONSUMER_SECRET)\n",
    "auth.set_access_token(ACCESS_TOKEN, ACCESS_SECRET)\n",
    "\n",
    "api = tweepy.API(auth)"
   ]
  },
  {
   "cell_type": "code",
   "execution_count": 11,
   "metadata": {},
   "outputs": [],
   "source": [
    "def get_tweets(twitter_username):\n",
    "    tweets = api.user_timeline(screen_name = twitter_username, count = 100, include_rts = True, tweet_mode = 'extended')\n",
    "\n",
    "    tweets = [tweet._json for tweet in tweets]\n",
    "    tweets = list(map(lambda x: {\n",
    "        'tweet' : x['full_text'],\n",
    "        'dt_creation' : x['created_at'],\n",
    "        'retweet_count' : x['retweet_count'],\n",
    "        'favorite_count' : x['favorite_count'],\n",
    "        'possibly_sensitive' : x['possibly_sensitive']\n",
    "        'dt_extraction' : datetime.datetime.now()\n",
    "    }, tweets))\n",
    "\n",
    "    return tweets"
   ]
  },
  {
   "cell_type": "code",
   "execution_count": null,
   "metadata": {},
   "outputs": [],
   "source": [
    "politicians_twitter_df = spark.read.parquet(\"/FileStore/tables/curated/politicians_twitter/*.parquet\").cache()"
   ]
  },
  {
   "cell_type": "code",
   "execution_count": null,
   "metadata": {},
   "outputs": [],
   "source": [
    "get_tweets_udf = F.udf(lambda twitter_username: get_tweets(twitter_username), ArrayType())\n",
    "\n",
    "politicians_twitter_df = politicians_twitter_df.withColumn('tweets', get_tweets_udf('DC_TWITTER_USERNAME'))"
   ]
  },
  {
   "cell_type": "code",
   "execution_count": 12,
   "metadata": {},
   "outputs": [],
   "source": [
    "tweets = get_tweets('CarlosBolsonaro')"
   ]
  },
  {
   "cell_type": "code",
   "execution_count": 14,
   "metadata": {},
   "outputs": [
    {
     "output_type": "execute_result",
     "data": {
      "text/plain": "{'created_at': 'Sat May 09 18:00:37 +0000 2020',\n 'id': 1259181496289710082,\n 'id_str': '1259181496289710082',\n 'full_text': 'https://t.co/zqGP3cjErj',\n 'truncated': False,\n 'display_text_range': [0, 0],\n 'entities': {'hashtags': [],\n  'symbols': [],\n  'user_mentions': [],\n  'urls': [],\n  'media': [{'id': 1259181484080009216,\n    'id_str': '1259181484080009216',\n    'indices': [0, 23],\n    'media_url': 'http://pbs.twimg.com/media/EXmC42pWkAAccml.jpg',\n    'media_url_https': 'https://pbs.twimg.com/media/EXmC42pWkAAccml.jpg',\n    'url': 'https://t.co/zqGP3cjErj',\n    'display_url': 'pic.twitter.com/zqGP3cjErj',\n    'expanded_url': 'https://twitter.com/CarlosBolsonaro/status/1259181496289710082/photo/1',\n    'type': 'photo',\n    'sizes': {'thumb': {'w': 150, 'h': 150, 'resize': 'crop'},\n     'medium': {'w': 1200, 'h': 1200, 'resize': 'fit'},\n     'small': {'w': 680, 'h': 680, 'resize': 'fit'},\n     'large': {'w': 2048, 'h': 2048, 'resize': 'fit'}}}]},\n 'extended_entities': {'media': [{'id': 1259181484080009216,\n    'id_str': '1259181484080009216',\n    'indices': [0, 23],\n    'media_url': 'http://pbs.twimg.com/media/EXmC42pWkAAccml.jpg',\n    'media_url_https': 'https://pbs.twimg.com/media/EXmC42pWkAAccml.jpg',\n    'url': 'https://t.co/zqGP3cjErj',\n    'display_url': 'pic.twitter.com/zqGP3cjErj',\n    'expanded_url': 'https://twitter.com/CarlosBolsonaro/status/1259181496289710082/photo/1',\n    'type': 'photo',\n    'sizes': {'thumb': {'w': 150, 'h': 150, 'resize': 'crop'},\n     'medium': {'w': 1200, 'h': 1200, 'resize': 'fit'},\n     'small': {'w': 680, 'h': 680, 'resize': 'fit'},\n     'large': {'w': 2048, 'h': 2048, 'resize': 'fit'}}}]},\n 'source': '<a href=\"http://twitter.com/download/android\" rel=\"nofollow\">Twitter for Android</a>',\n 'in_reply_to_status_id': 1259139492096749569,\n 'in_reply_to_status_id_str': '1259139492096749569',\n 'in_reply_to_user_id': 68712576,\n 'in_reply_to_user_id_str': '68712576',\n 'in_reply_to_screen_name': 'CarlosBolsonaro',\n 'user': {'id': 68712576,\n  'id_str': '68712576',\n  'name': 'Carlos Bolsonaro',\n  'screen_name': 'CarlosBolsonaro',\n  'location': 'Rio de Janeiro-RJ',\n  'description': 'Vereador da cidade do Rio de Janeiro (ainda podendo opinar sobre o que achar pertinente).',\n  'url': 'https://t.co/3z2ZiPnA8f',\n  'entities': {'url': {'urls': [{'url': 'https://t.co/3z2ZiPnA8f',\n      'expanded_url': 'http://www.carlosbolsonaro.com.br',\n      'display_url': 'carlosbolsonaro.com.br',\n      'indices': [0, 23]}]},\n   'description': {'urls': []}},\n  'protected': False,\n  'followers_count': 1820312,\n  'friends_count': 510,\n  'listed_count': 2007,\n  'created_at': 'Tue Aug 25 14:53:27 +0000 2009',\n  'favourites_count': 4140,\n  'utc_offset': None,\n  'time_zone': None,\n  'geo_enabled': True,\n  'verified': True,\n  'statuses_count': 15439,\n  'lang': None,\n  'contributors_enabled': False,\n  'is_translator': False,\n  'is_translation_enabled': False,\n  'profile_background_color': '003C55',\n  'profile_background_image_url': 'http://abs.twimg.com/images/themes/theme1/bg.png',\n  'profile_background_image_url_https': 'https://abs.twimg.com/images/themes/theme1/bg.png',\n  'profile_background_tile': False,\n  'profile_image_url': 'http://pbs.twimg.com/profile_images/1230681290120318977/iI2UkUQm_normal.jpg',\n  'profile_image_url_https': 'https://pbs.twimg.com/profile_images/1230681290120318977/iI2UkUQm_normal.jpg',\n  'profile_banner_url': 'https://pbs.twimg.com/profile_banners/68712576/1575806653',\n  'profile_link_color': '23B8F0',\n  'profile_sidebar_border_color': '000000',\n  'profile_sidebar_fill_color': '000000',\n  'profile_text_color': '8A8A8A',\n  'profile_use_background_image': True,\n  'has_extended_profile': False,\n  'default_profile': False,\n  'default_profile_image': False,\n  'following': False,\n  'follow_request_sent': False,\n  'notifications': False,\n  'translator_type': 'none'},\n 'geo': None,\n 'coordinates': None,\n 'place': None,\n 'contributors': None,\n 'is_quote_status': False,\n 'retweet_count': 111,\n 'favorite_count': 903,\n 'favorited': False,\n 'retweeted': False,\n 'possibly_sensitive': False,\n 'lang': 'und'}"
     },
     "metadata": {},
     "execution_count": 14
    }
   ],
   "source": [
    "tweets[0]"
   ]
  }
 ],
 "metadata": {
  "language_info": {
   "codemirror_mode": {
    "name": "ipython",
    "version": 3
   },
   "file_extension": ".py",
   "mimetype": "text/x-python",
   "name": "python",
   "nbconvert_exporter": "python",
   "pygments_lexer": "ipython3",
   "version": "3.7.6-final"
  },
  "orig_nbformat": 2,
  "kernelspec": {
   "name": "python3",
   "display_name": "Python 3"
  }
 },
 "nbformat": 4,
 "nbformat_minor": 2
}